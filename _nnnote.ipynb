{
  "nbformat": 4,
  "nbformat_minor": 0,
  "metadata": {
    "colab": {
      "name": "_nnnote.ipynb",
      "version": "0.3.2",
      "provenance": [],
      "include_colab_link": true
    },
    "kernelspec": {
      "name": "python3",
      "display_name": "Python 3"
    },
    "accelerator": "GPU"
  },
  "cells": [
    {
      "cell_type": "markdown",
      "metadata": {
        "id": "view-in-github",
        "colab_type": "text"
      },
      "source": [
        "<a href=\"https://colab.research.google.com/github/BonnyWang/ECE160_Final/blob/master/_nnnote.ipynb\" target=\"_parent\"><img src=\"https://colab.research.google.com/assets/colab-badge.svg\" alt=\"Open In Colab\"/></a>"
      ]
    },
    {
      "cell_type": "markdown",
      "metadata": {
        "id": "sVLLdEjIu8c9",
        "colab_type": "text"
      },
      "source": [
        "#-Intro"
      ]
    },
    {
      "cell_type": "code",
      "metadata": {
        "id": "iEdUpNDTdMrp",
        "colab_type": "code",
        "colab": {}
      },
      "source": [
        "!pip install -q pyyaml  # Required to save models in YAML format"
      ],
      "execution_count": 0,
      "outputs": []
    },
    {
      "cell_type": "code",
      "metadata": {
        "id": "QPlNJvGIfGll",
        "colab_type": "code",
        "outputId": "146f365f-d4b4-4dcd-bdd9-c3851d67c922",
        "colab": {
          "base_uri": "https://localhost:8080/",
          "height": 33
        }
      },
      "source": [
        "import tensorflow as tf\n",
        "print(tf.__version__)"
      ],
      "execution_count": 4,
      "outputs": [
        {
          "output_type": "stream",
          "text": [
            "1.14.0\n"
          ],
          "name": "stdout"
        }
      ]
    },
    {
      "cell_type": "code",
      "metadata": {
        "id": "xZqbxdcUfnC2",
        "colab_type": "code",
        "colab": {}
      },
      "source": [
        "\n",
        "graph1 = tf.Graph()"
      ],
      "execution_count": 0,
      "outputs": []
    },
    {
      "cell_type": "code",
      "metadata": {
        "id": "zmuM7ZJnrtGk",
        "colab_type": "code",
        "colab": {}
      },
      "source": [
        "with graph1.as_default():\n",
        "  a = tf.constant([2], name = 'constant_a')\n",
        "  b = tf.constant([3], name = 'constant_b')"
      ],
      "execution_count": 0,
      "outputs": []
    },
    {
      "cell_type": "code",
      "metadata": {
        "id": "Le5wkJpOeElv",
        "colab_type": "code",
        "outputId": "dc6b1700-ad65-4643-8c24-ab9e0d1d3688",
        "colab": {
          "base_uri": "https://localhost:8080/",
          "height": 33
        }
      },
      "source": [
        "a"
      ],
      "execution_count": 7,
      "outputs": [
        {
          "output_type": "execute_result",
          "data": {
            "text/plain": [
              "<tf.Tensor 'constant_a:0' shape=(1,) dtype=int32>"
            ]
          },
          "metadata": {
            "tags": []
          },
          "execution_count": 7
        }
      ]
    },
    {
      "cell_type": "code",
      "metadata": {
        "id": "M2ENVvW4sHif",
        "colab_type": "code",
        "outputId": "92f6ccd9-a6b6-4a63-d910-22e545a850a5",
        "colab": {
          "base_uri": "https://localhost:8080/",
          "height": 33
        }
      },
      "source": [
        "sess = tf.Session(graph = graph1)\n",
        "result = sess.run(a)\n",
        "print(result)\n",
        "sess.close()"
      ],
      "execution_count": 8,
      "outputs": [
        {
          "output_type": "stream",
          "text": [
            "[2]\n"
          ],
          "name": "stdout"
        }
      ]
    },
    {
      "cell_type": "code",
      "metadata": {
        "id": "U6cAZaMDsSud",
        "colab_type": "code",
        "colab": {}
      },
      "source": [
        "with graph1.as_default():\n",
        "  c = tf.add(a,b)"
      ],
      "execution_count": 0,
      "outputs": []
    },
    {
      "cell_type": "code",
      "metadata": {
        "id": "KZtbvL1Kseli",
        "colab_type": "code",
        "outputId": "cf3cc6b5-b2b6-49dd-9b82-a7d9ebccd4be",
        "colab": {
          "base_uri": "https://localhost:8080/",
          "height": 33
        }
      },
      "source": [
        "sess = tf.Session(graph = graph1)\n",
        "result = sess.run(c)\n",
        "print(result)\n",
        "sess.close()"
      ],
      "execution_count": 10,
      "outputs": [
        {
          "output_type": "stream",
          "text": [
            "[5]\n"
          ],
          "name": "stdout"
        }
      ]
    },
    {
      "cell_type": "markdown",
      "metadata": {
        "id": "dv4YKBmzun07",
        "colab_type": "text"
      },
      "source": [
        "- to avaid close session every time\n",
        "- wtih statement is used to handle exception in python\n",
        "- The with statement itself ensures proper acquisition and release of resources"
      ]
    },
    {
      "cell_type": "code",
      "metadata": {
        "id": "hLawXwL0svnO",
        "colab_type": "code",
        "outputId": "45cb5443-3719-4f27-b3cb-2c64511d99a9",
        "colab": {
          "base_uri": "https://localhost:8080/",
          "height": 33
        }
      },
      "source": [
        "with tf.Session(graph = graph1) as sess :\n",
        "  result = sess.run(c)\n",
        "  print(result)"
      ],
      "execution_count": 11,
      "outputs": [
        {
          "output_type": "stream",
          "text": [
            "[5]\n"
          ],
          "name": "stdout"
        }
      ]
    },
    {
      "cell_type": "markdown",
      "metadata": {
        "id": "5C7IS9ylvtp0",
        "colab_type": "text"
      },
      "source": [
        "- Define Multidimenstional Array"
      ]
    },
    {
      "cell_type": "code",
      "metadata": {
        "id": "piFp2oVosob9",
        "colab_type": "code",
        "outputId": "8ba0fb6a-c3ae-4fab-83d5-abb33c6de41d",
        "colab": {
          "base_uri": "https://localhost:8080/",
          "height": 418
        }
      },
      "source": [
        "graph2 = tf.Graph()\n",
        "with graph2.as_default():\n",
        "  Scalar = tf.constant(2)\n",
        "  Vector = tf.constant([5,6,2])\n",
        "  Matrix = tf.constant([[1,2,3],[2,3,4],[3,4,5]])\n",
        "  Tensor = tf.constant( [ [[1,2,3],[2,3,4],[3,4,5]] , [[4,5,6],[5,6,7],[6,7,8]] , [[7,8,9],[8,9,10],[9,10,11]]])\n",
        "\n",
        "with tf.Session(graph = graph2) as sess:\n",
        "  result = sess.run(Scalar)\n",
        "  print (\"Scalar (1 entry):\\n %s \\n\" % result)\n",
        "  result = sess.run(Vector)\n",
        "  print (\"Vector (3 entries) :\\n %s \\n\" % result)\n",
        "  result = sess.run(Matrix)\n",
        "  print (\"Matrix (3x3 entries):\\n %s \\n\" % result)\n",
        "  result = sess.run(Tensor)\n",
        "  print (\"Tensor (3x3x3 entries) :\\n %s \\n\" % result)"
      ],
      "execution_count": 12,
      "outputs": [
        {
          "output_type": "stream",
          "text": [
            "Scalar (1 entry):\n",
            " 2 \n",
            "\n",
            "Vector (3 entries) :\n",
            " [5 6 2] \n",
            "\n",
            "Matrix (3x3 entries):\n",
            " [[1 2 3]\n",
            " [2 3 4]\n",
            " [3 4 5]] \n",
            "\n",
            "Tensor (3x3x3 entries) :\n",
            " [[[ 1  2  3]\n",
            "  [ 2  3  4]\n",
            "  [ 3  4  5]]\n",
            "\n",
            " [[ 4  5  6]\n",
            "  [ 5  6  7]\n",
            "  [ 6  7  8]]\n",
            "\n",
            " [[ 7  8  9]\n",
            "  [ 8  9 10]\n",
            "  [ 9 10 11]]] \n",
            "\n"
          ],
          "name": "stdout"
        }
      ]
    },
    {
      "cell_type": "code",
      "metadata": {
        "id": "_sCvlxwOyo_g",
        "colab_type": "code",
        "outputId": "e3c6da1b-86cf-40f0-b621-ea6ddb7e633e",
        "colab": {
          "base_uri": "https://localhost:8080/",
          "height": 33
        }
      },
      "source": [
        "Scalar.shape"
      ],
      "execution_count": 13,
      "outputs": [
        {
          "output_type": "execute_result",
          "data": {
            "text/plain": [
              "TensorShape([])"
            ]
          },
          "metadata": {
            "tags": []
          },
          "execution_count": 13
        }
      ]
    },
    {
      "cell_type": "code",
      "metadata": {
        "id": "lAB3-dOM1hf1",
        "colab_type": "code",
        "outputId": "dde7a996-94d6-4f9b-c156-f3aa6b52dda8",
        "colab": {
          "base_uri": "https://localhost:8080/",
          "height": 33
        }
      },
      "source": [
        "Tensor.shape"
      ],
      "execution_count": 14,
      "outputs": [
        {
          "output_type": "execute_result",
          "data": {
            "text/plain": [
              "TensorShape([Dimension(3), Dimension(3), Dimension(3)])"
            ]
          },
          "metadata": {
            "tags": []
          },
          "execution_count": 14
        }
      ]
    },
    {
      "cell_type": "markdown",
      "metadata": {
        "id": "cf1x4z-P2IqN",
        "colab_type": "text"
      },
      "source": [
        "- The difference between + and tf.add\n"
      ]
    },
    {
      "cell_type": "code",
      "metadata": {
        "id": "ee--E9CH1kDo",
        "colab_type": "code",
        "outputId": "b5ff18ec-3fc2-484f-8439-ce7a518f64b4",
        "colab": {
          "base_uri": "https://localhost:8080/",
          "height": 150
        }
      },
      "source": [
        "graph3 = tf.Graph()\n",
        "with graph3.as_default():\n",
        "    Matrix_one = tf.constant([[1,2,3],[2,3,4],[3,4,5]])\n",
        "    Matrix_two = tf.constant([[2,2,2],[2,2,2],[2,2,2]])\n",
        "\n",
        "    add_1_operation = tf.add(Matrix_one, Matrix_two)\n",
        "    add_2_operation = Matrix_one + Matrix_two\n",
        "\n",
        "with tf.Session(graph =graph3) as sess:\n",
        "    result = sess.run(add_1_operation)\n",
        "    print (\"Defined using tensorflow function :\")\n",
        "    print(result)\n",
        "    result = sess.run(add_2_operation)\n",
        "    print (\"Defined using normal expressions :\")\n",
        "    print(result)"
      ],
      "execution_count": 15,
      "outputs": [
        {
          "output_type": "stream",
          "text": [
            "Defined using tensorflow function :\n",
            "[[3 4 5]\n",
            " [4 5 6]\n",
            " [5 6 7]]\n",
            "Defined using normal expressions :\n",
            "[[3 4 5]\n",
            " [4 5 6]\n",
            " [5 6 7]]\n"
          ],
          "name": "stdout"
        }
      ]
    },
    {
      "cell_type": "code",
      "metadata": {
        "id": "OZL8Swsp2PrA",
        "colab_type": "code",
        "outputId": "b4172a4d-341f-4328-d6ba-a416297f37d8",
        "colab": {
          "base_uri": "https://localhost:8080/",
          "height": 67
        }
      },
      "source": [
        "graph4 = tf.Graph()\n",
        "with graph4.as_default():\n",
        "    Matrix_one = tf.constant([[2,3],[3,4]])\n",
        "    Matrix_two = tf.constant([[2,3],[3,4]])\n",
        "\n",
        "    mul_operation = tf.matmul(Matrix_one, Matrix_two)\n",
        "\n",
        "with tf.Session(graph = graph4) as sess:\n",
        "    result = sess.run(mul_operation)\n",
        "    print (\"Defined using tensorflow function :\")\n",
        "    print(result)"
      ],
      "execution_count": 16,
      "outputs": [
        {
          "output_type": "stream",
          "text": [
            "Defined using tensorflow function :\n",
            "[[13 18]\n",
            " [18 25]]\n"
          ],
          "name": "stdout"
        }
      ]
    },
    {
      "cell_type": "code",
      "metadata": {
        "id": "9naRl3Wf2Y1P",
        "colab_type": "code",
        "outputId": "490c1108-d847-41c8-eeaf-50b9b70d900b",
        "colab": {
          "base_uri": "https://localhost:8080/",
          "height": 67
        }
      },
      "source": [
        "graph4 = tf.Graph()\n",
        "with graph4.as_default():\n",
        "    Matrix_one = tf.constant([[2,3],[3,4]])\n",
        "    Matrix_two = tf.constant([[2,3],[3,4]])\n",
        "\n",
        "    mul_operation = tf.matmul(Matrix_one, Matrix_two)\n",
        "\n",
        "with tf.Session(graph = graph4) as sess:\n",
        "    result = sess.run(mul_operation)\n",
        "    print (\"Defined using tensorflow function :\")\n",
        "    print(result)"
      ],
      "execution_count": 17,
      "outputs": [
        {
          "output_type": "stream",
          "text": [
            "Defined using tensorflow function :\n",
            "[[13 18]\n",
            " [18 25]]\n"
          ],
          "name": "stdout"
        }
      ]
    },
    {
      "cell_type": "markdown",
      "metadata": {
        "id": "5XAjvjPD4vAo",
        "colab_type": "text"
      },
      "source": [
        "# **- Variables**"
      ]
    },
    {
      "cell_type": "code",
      "metadata": {
        "id": "RUfcb1ve4xl4",
        "colab_type": "code",
        "colab": {}
      },
      "source": [
        "v = tf.Variable(0)"
      ],
      "execution_count": 0,
      "outputs": []
    },
    {
      "cell_type": "code",
      "metadata": {
        "id": "yT0Dv37t46ex",
        "colab_type": "code",
        "colab": {}
      },
      "source": [
        "\n",
        "update = tf.assign(v, v+1)"
      ],
      "execution_count": 0,
      "outputs": []
    },
    {
      "cell_type": "code",
      "metadata": {
        "id": "OfE01UgF49GQ",
        "colab_type": "code",
        "outputId": "33a237c2-bedf-4c00-ffaf-304c60a55054",
        "colab": {
          "base_uri": "https://localhost:8080/",
          "height": 33
        }
      },
      "source": [
        "print(update)"
      ],
      "execution_count": 21,
      "outputs": [
        {
          "output_type": "stream",
          "text": [
            "Tensor(\"Assign:0\", shape=(), dtype=int32_ref)\n"
          ],
          "name": "stdout"
        }
      ]
    },
    {
      "cell_type": "code",
      "metadata": {
        "id": "1b8oeTTV5A-Q",
        "colab_type": "code",
        "colab": {}
      },
      "source": [
        "init_op = tf.global_variables_initializer()"
      ],
      "execution_count": 0,
      "outputs": []
    },
    {
      "cell_type": "code",
      "metadata": {
        "id": "-z9JIXE45fcQ",
        "colab_type": "code",
        "outputId": "220957ea-223d-41d5-b1d6-6aee7d41a959",
        "colab": {
          "base_uri": "https://localhost:8080/",
          "height": 84
        }
      },
      "source": [
        "with tf.Session() as session:\n",
        "  session.run(init_op)\n",
        "  print(session.run(v))\n",
        "  for _ in range(3):\n",
        "    session.run(update)\n",
        "    print(session.run(v))"
      ],
      "execution_count": 23,
      "outputs": [
        {
          "output_type": "stream",
          "text": [
            "0\n",
            "1\n",
            "2\n",
            "3\n"
          ],
          "name": "stdout"
        }
      ]
    },
    {
      "cell_type": "markdown",
      "metadata": {
        "id": "7aJgYf2Krkgr",
        "colab_type": "text"
      },
      "source": [
        "# **-PlaceHolder**"
      ]
    },
    {
      "cell_type": "code",
      "metadata": {
        "id": "ffE8yK-jrq1q",
        "colab_type": "code",
        "colab": {}
      },
      "source": [
        " a = tf.placeholder(tf.float32)"
      ],
      "execution_count": 0,
      "outputs": []
    },
    {
      "cell_type": "code",
      "metadata": {
        "id": "sdbJRYn0sCQD",
        "colab_type": "code",
        "colab": {}
      },
      "source": [
        "b = a*2"
      ],
      "execution_count": 0,
      "outputs": []
    },
    {
      "cell_type": "code",
      "metadata": {
        "id": "QVgsGqKTseUE",
        "colab_type": "code",
        "colab": {
          "base_uri": "https://localhost:8080/",
          "height": 33
        },
        "outputId": "729f7f31-7b98-4438-810a-99acaba0acf0"
      },
      "source": [
        "with tf.Session() as sess:\n",
        "  result = sess.run(b, feed_dict = {a:3.5})\n",
        "  print(result)"
      ],
      "execution_count": 26,
      "outputs": [
        {
          "output_type": "stream",
          "text": [
            "7.0\n"
          ],
          "name": "stdout"
        }
      ]
    },
    {
      "cell_type": "code",
      "metadata": {
        "id": "yAkNmOTcsvfn",
        "colab_type": "code",
        "colab": {
          "base_uri": "https://localhost:8080/",
          "height": 167
        },
        "outputId": "44dcb41e-16a7-44b7-82c6-ee40f55cce63"
      },
      "source": [
        "dictionary={a: [ [ [1,2,3],[4,5,6],[7,8,9],[10,11,12] ] , [ [13,14,15],[16,17,18],[19,20,21],[22,23,24] ] ] }\n",
        "\n",
        "with tf.Session() as sess:\n",
        "    result = sess.run(b,feed_dict=dictionary)\n",
        "    print (result)"
      ],
      "execution_count": 27,
      "outputs": [
        {
          "output_type": "stream",
          "text": [
            "[[[ 2.  4.  6.]\n",
            "  [ 8. 10. 12.]\n",
            "  [14. 16. 18.]\n",
            "  [20. 22. 24.]]\n",
            "\n",
            " [[26. 28. 30.]\n",
            "  [32. 34. 36.]\n",
            "  [38. 40. 42.]\n",
            "  [44. 46. 48.]]]\n"
          ],
          "name": "stdout"
        }
      ]
    },
    {
      "cell_type": "code",
      "metadata": {
        "id": "cs6RstbltNVM",
        "colab_type": "code",
        "colab": {
          "base_uri": "https://localhost:8080/",
          "height": 50
        },
        "outputId": "87b54ee6-e29e-45bf-9667-9a0ef06155e1"
      },
      "source": [
        "graph5 = tf.Graph()\n",
        "with graph5.as_default():\n",
        "    a = tf.constant([5])\n",
        "    b = tf.constant([2])\n",
        "    c = tf.add(a,b)\n",
        "    d = tf.subtract(a,b)\n",
        "\n",
        "with tf.Session(graph = graph5) as sess:\n",
        "    result = sess.run(c)\n",
        "    print ('c =: %s' % result)\n",
        "    result = sess.run(d)\n",
        "    print ('d =: %s' % result)"
      ],
      "execution_count": 28,
      "outputs": [
        {
          "output_type": "stream",
          "text": [
            "c =: [7]\n",
            "d =: [3]\n"
          ],
          "name": "stdout"
        }
      ]
    },
    {
      "cell_type": "code",
      "metadata": {
        "id": "EuLrce3st60E",
        "colab_type": "code",
        "colab": {}
      },
      "source": [
        ""
      ],
      "execution_count": 0,
      "outputs": []
    }
  ]
}